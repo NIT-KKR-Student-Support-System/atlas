{
 "cells": [
  {
   "cell_type": "markdown",
   "metadata": {},
   "source": [
    "# Week 2 - 9th August, 2023"
   ]
  },
  {
   "cell_type": "markdown",
   "metadata": {},
   "source": [
    "Use the Bollywood Dataset to Answer Questions 1 to 12."
   ]
  },
  {
   "cell_type": "code",
   "execution_count": 3,
   "metadata": {},
   "outputs": [
    {
     "data": {
      "text/html": [
       "<div>\n",
       "<style scoped>\n",
       "    .dataframe tbody tr th:only-of-type {\n",
       "        vertical-align: middle;\n",
       "    }\n",
       "\n",
       "    .dataframe tbody tr th {\n",
       "        vertical-align: top;\n",
       "    }\n",
       "\n",
       "    .dataframe thead th {\n",
       "        text-align: right;\n",
       "    }\n",
       "</style>\n",
       "<table border=\"1\" class=\"dataframe\">\n",
       "  <thead>\n",
       "    <tr style=\"text-align: right;\">\n",
       "      <th></th>\n",
       "      <th>SlNo</th>\n",
       "      <th>ReleaseDate</th>\n",
       "      <th>MovieName</th>\n",
       "      <th>ReleaseTime</th>\n",
       "      <th>Genre</th>\n",
       "      <th>Budget</th>\n",
       "      <th>BoxOfficeCollection</th>\n",
       "      <th>YoutubeViews</th>\n",
       "      <th>YoutubeLikes</th>\n",
       "      <th>YoutubeDislikes</th>\n",
       "    </tr>\n",
       "  </thead>\n",
       "  <tbody>\n",
       "    <tr>\n",
       "      <th>0</th>\n",
       "      <td>1</td>\n",
       "      <td>18-Apr-14</td>\n",
       "      <td>2 States</td>\n",
       "      <td>LW</td>\n",
       "      <td>Romance</td>\n",
       "      <td>36</td>\n",
       "      <td>104.00</td>\n",
       "      <td>8576361</td>\n",
       "      <td>26622</td>\n",
       "      <td>2527</td>\n",
       "    </tr>\n",
       "    <tr>\n",
       "      <th>1</th>\n",
       "      <td>2</td>\n",
       "      <td>4-Jan-13</td>\n",
       "      <td>Table No. 21</td>\n",
       "      <td>N</td>\n",
       "      <td>Thriller</td>\n",
       "      <td>10</td>\n",
       "      <td>12.00</td>\n",
       "      <td>1087320</td>\n",
       "      <td>1129</td>\n",
       "      <td>137</td>\n",
       "    </tr>\n",
       "    <tr>\n",
       "      <th>2</th>\n",
       "      <td>3</td>\n",
       "      <td>18-Jul-14</td>\n",
       "      <td>Amit Sahni Ki List</td>\n",
       "      <td>N</td>\n",
       "      <td>Comedy</td>\n",
       "      <td>10</td>\n",
       "      <td>4.00</td>\n",
       "      <td>572336</td>\n",
       "      <td>586</td>\n",
       "      <td>54</td>\n",
       "    </tr>\n",
       "    <tr>\n",
       "      <th>3</th>\n",
       "      <td>4</td>\n",
       "      <td>4-Jan-13</td>\n",
       "      <td>Rajdhani Express</td>\n",
       "      <td>N</td>\n",
       "      <td>Drama</td>\n",
       "      <td>7</td>\n",
       "      <td>0.35</td>\n",
       "      <td>42626</td>\n",
       "      <td>86</td>\n",
       "      <td>19</td>\n",
       "    </tr>\n",
       "    <tr>\n",
       "      <th>4</th>\n",
       "      <td>5</td>\n",
       "      <td>4-Jul-14</td>\n",
       "      <td>Bobby Jasoos</td>\n",
       "      <td>N</td>\n",
       "      <td>Comedy</td>\n",
       "      <td>18</td>\n",
       "      <td>10.80</td>\n",
       "      <td>3113427</td>\n",
       "      <td>4512</td>\n",
       "      <td>1224</td>\n",
       "    </tr>\n",
       "  </tbody>\n",
       "</table>\n",
       "</div>"
      ],
      "text/plain": [
       "   SlNo ReleaseDate           MovieName ReleaseTime      Genre  Budget  \\\n",
       "0     1   18-Apr-14            2 States          LW    Romance      36   \n",
       "1     2    4-Jan-13        Table No. 21           N  Thriller       10   \n",
       "2     3   18-Jul-14  Amit Sahni Ki List           N     Comedy      10   \n",
       "3     4    4-Jan-13    Rajdhani Express           N     Drama        7   \n",
       "4     5    4-Jul-14        Bobby Jasoos           N     Comedy      18   \n",
       "\n",
       "   BoxOfficeCollection  YoutubeViews  YoutubeLikes  YoutubeDislikes  \n",
       "0               104.00       8576361         26622             2527  \n",
       "1                12.00       1087320          1129              137  \n",
       "2                 4.00        572336           586               54  \n",
       "3                 0.35         42626            86               19  \n",
       "4                10.80       3113427          4512             1224  "
      ]
     },
     "execution_count": 3,
     "metadata": {},
     "output_type": "execute_result"
    }
   ],
   "source": [
    "import pandas as pd\n",
    "bollywood_df = pd.read_csv('./datasets/bollywood.csv')\n",
    "bollywood_df.head(5)"
   ]
  },
  {
   "cell_type": "code",
   "execution_count": 8,
   "metadata": {},
   "outputs": [],
   "source": [
    "import warnings\n",
    "warnings.filterwarnings('ignore')"
   ]
  },
  {
   "cell_type": "markdown",
   "metadata": {},
   "source": [
    "### Q1. How many records are present in the dataset? Print the metadata information of the dataset."
   ]
  },
  {
   "cell_type": "code",
   "execution_count": 9,
   "metadata": {},
   "outputs": [
    {
     "data": {
      "text/plain": [
       "149"
      ]
     },
     "execution_count": 9,
     "metadata": {},
     "output_type": "execute_result"
    }
   ],
   "source": [
    "len(bollywood_df)"
   ]
  },
  {
   "cell_type": "markdown",
   "metadata": {},
   "source": [
    "### Q2. How many movies got released in each genre? Which genre had highest number of releases? Sort number of releases in each genre in descending order."
   ]
  },
  {
   "cell_type": "code",
   "execution_count": 10,
   "metadata": {},
   "outputs": [
    {
     "data": {
      "text/plain": [
       "Genre\n",
       "Comedy       36\n",
       " Drama       35\n",
       "Thriller     26\n",
       "Romance      25\n",
       "Action       21\n",
       "Thriller      3\n",
       "Action        3\n",
       "Name: count, dtype: int64"
      ]
     },
     "execution_count": 10,
     "metadata": {},
     "output_type": "execute_result"
    }
   ],
   "source": [
    "# movies release in each genre\n",
    "bollywood_df['Genre'].value_counts()"
   ]
  },
  {
   "cell_type": "code",
   "execution_count": 11,
   "metadata": {},
   "outputs": [
    {
     "data": {
      "text/plain": [
       "Genre\n",
       "Comedy    36\n",
       "Name: count, dtype: int64"
      ]
     },
     "execution_count": 11,
     "metadata": {},
     "output_type": "execute_result"
    }
   ],
   "source": [
    "# genre with the highest number of releases\n",
    "bollywood_df['Genre'].value_counts().sort_values(ascending=False).head(1)"
   ]
  },
  {
   "cell_type": "code",
   "execution_count": 12,
   "metadata": {},
   "outputs": [
    {
     "data": {
      "text/plain": [
       "Genre\n",
       "Comedy       36\n",
       " Drama       35\n",
       "Thriller     26\n",
       "Romance      25\n",
       "Action       21\n",
       "Thriller      3\n",
       "Action        3\n",
       "Name: count, dtype: int64"
      ]
     },
     "execution_count": 12,
     "metadata": {},
     "output_type": "execute_result"
    }
   ],
   "source": [
    "# descending list of releases grouped by genre\n",
    "bollywood_df['Genre'].value_counts().sort_values(ascending=False)"
   ]
  },
  {
   "cell_type": "markdown",
   "metadata": {},
   "source": [
    "### Q3. How many movies in each genre got released in different release times like long weekend, festive season, etc.\n",
    "(Hint: Do a cross tabulation between `Genre` and `ReleaseTime`.)"
   ]
  },
  {
   "cell_type": "code",
   "execution_count": 13,
   "metadata": {},
   "outputs": [
    {
     "data": {
      "text/html": [
       "<div>\n",
       "<style scoped>\n",
       "    .dataframe tbody tr th:only-of-type {\n",
       "        vertical-align: middle;\n",
       "    }\n",
       "\n",
       "    .dataframe tbody tr th {\n",
       "        vertical-align: top;\n",
       "    }\n",
       "\n",
       "    .dataframe thead th {\n",
       "        text-align: right;\n",
       "    }\n",
       "</style>\n",
       "<table border=\"1\" class=\"dataframe\">\n",
       "  <thead>\n",
       "    <tr style=\"text-align: right;\">\n",
       "      <th>ReleaseTime</th>\n",
       "      <th>FS</th>\n",
       "      <th>HS</th>\n",
       "      <th>LW</th>\n",
       "      <th>N</th>\n",
       "    </tr>\n",
       "    <tr>\n",
       "      <th>Genre</th>\n",
       "      <th></th>\n",
       "      <th></th>\n",
       "      <th></th>\n",
       "      <th></th>\n",
       "    </tr>\n",
       "  </thead>\n",
       "  <tbody>\n",
       "    <tr>\n",
       "      <th>Drama</th>\n",
       "      <td>4</td>\n",
       "      <td>6</td>\n",
       "      <td>1</td>\n",
       "      <td>24</td>\n",
       "    </tr>\n",
       "    <tr>\n",
       "      <th>Action</th>\n",
       "      <td>3</td>\n",
       "      <td>3</td>\n",
       "      <td>3</td>\n",
       "      <td>12</td>\n",
       "    </tr>\n",
       "    <tr>\n",
       "      <th>Action</th>\n",
       "      <td>0</td>\n",
       "      <td>0</td>\n",
       "      <td>0</td>\n",
       "      <td>3</td>\n",
       "    </tr>\n",
       "    <tr>\n",
       "      <th>Comedy</th>\n",
       "      <td>3</td>\n",
       "      <td>5</td>\n",
       "      <td>5</td>\n",
       "      <td>23</td>\n",
       "    </tr>\n",
       "    <tr>\n",
       "      <th>Romance</th>\n",
       "      <td>3</td>\n",
       "      <td>3</td>\n",
       "      <td>4</td>\n",
       "      <td>15</td>\n",
       "    </tr>\n",
       "    <tr>\n",
       "      <th>Thriller</th>\n",
       "      <td>4</td>\n",
       "      <td>1</td>\n",
       "      <td>1</td>\n",
       "      <td>20</td>\n",
       "    </tr>\n",
       "    <tr>\n",
       "      <th>Thriller</th>\n",
       "      <td>0</td>\n",
       "      <td>0</td>\n",
       "      <td>1</td>\n",
       "      <td>2</td>\n",
       "    </tr>\n",
       "  </tbody>\n",
       "</table>\n",
       "</div>"
      ],
      "text/plain": [
       "ReleaseTime  FS  HS  LW   N\n",
       "Genre                      \n",
       " Drama        4   6   1  24\n",
       "Action        3   3   3  12\n",
       "Action        0   0   0   3\n",
       "Comedy        3   5   5  23\n",
       "Romance       3   3   4  15\n",
       "Thriller      4   1   1  20\n",
       "Thriller      0   0   1   2"
      ]
     },
     "execution_count": 13,
     "metadata": {},
     "output_type": "execute_result"
    }
   ],
   "source": [
    "pd.crosstab(bollywood_df['Genre'], bollywood_df['ReleaseTime'])"
   ]
  },
  {
   "cell_type": "markdown",
   "metadata": {},
   "source": [
    "### Q4. Which month of the year, maximum number movie releases are seen?\n",
    "(Hint: Extract a new column called `month` from `ReleaseDate` column.)"
   ]
  },
  {
   "cell_type": "code",
   "execution_count": 14,
   "metadata": {},
   "outputs": [
    {
     "data": {
      "text/plain": [
       "Month\n",
       "Jan    20\n",
       "dtype: int64"
      ]
     },
     "execution_count": 14,
     "metadata": {},
     "output_type": "execute_result"
    }
   ],
   "source": [
    "bollywood_df['Month'] = bollywood_df['ReleaseDate'].map(lambda date: date.split('-')[1])\n",
    "bollywood_df.groupby('Month').size().sort_values(ascending=False).head(1)"
   ]
  },
  {
   "cell_type": "markdown",
   "metadata": {},
   "source": [
    "### Q5. Which month of the year typically sees most releases of high budgeted movies, that is, movies with budget of 25 crore or more?"
   ]
  },
  {
   "cell_type": "code",
   "execution_count": 15,
   "metadata": {},
   "outputs": [
    {
     "data": {
      "text/plain": [
       "Month\n",
       "Feb    9\n",
       "dtype: int64"
      ]
     },
     "execution_count": 15,
     "metadata": {},
     "output_type": "execute_result"
    }
   ],
   "source": [
    "bollywood_df['Month'] = bollywood_df['ReleaseDate'].map(lambda date: date.split('-')[1])\n",
    "bollywood_df[bollywood_df['Budget'] >= 25].groupby('Month').size().sort_values(ascending=False).head(1)"
   ]
  },
  {
   "cell_type": "markdown",
   "metadata": {},
   "source": [
    "### Q6. Which are the top 10 movies with maximum return on investment (ROI)? Calculate return on investment (ROI) as `(BoxOfficeCollection – Budget) / Budget`."
   ]
  },
  {
   "cell_type": "code",
   "execution_count": 16,
   "metadata": {},
   "outputs": [
    {
     "data": {
      "text/html": [
       "<div>\n",
       "<style scoped>\n",
       "    .dataframe tbody tr th:only-of-type {\n",
       "        vertical-align: middle;\n",
       "    }\n",
       "\n",
       "    .dataframe tbody tr th {\n",
       "        vertical-align: top;\n",
       "    }\n",
       "\n",
       "    .dataframe thead th {\n",
       "        text-align: right;\n",
       "    }\n",
       "</style>\n",
       "<table border=\"1\" class=\"dataframe\">\n",
       "  <thead>\n",
       "    <tr style=\"text-align: right;\">\n",
       "      <th></th>\n",
       "      <th>SlNo</th>\n",
       "      <th>ReleaseDate</th>\n",
       "      <th>MovieName</th>\n",
       "      <th>ReleaseTime</th>\n",
       "      <th>Genre</th>\n",
       "      <th>Budget</th>\n",
       "      <th>BoxOfficeCollection</th>\n",
       "      <th>YoutubeViews</th>\n",
       "      <th>YoutubeLikes</th>\n",
       "      <th>YoutubeDislikes</th>\n",
       "      <th>ROI</th>\n",
       "      <th>Month</th>\n",
       "    </tr>\n",
       "  </thead>\n",
       "  <tbody>\n",
       "    <tr>\n",
       "      <th>64</th>\n",
       "      <td>65</td>\n",
       "      <td>26-Apr-13</td>\n",
       "      <td>Aashiqui 2</td>\n",
       "      <td>N</td>\n",
       "      <td>Romance</td>\n",
       "      <td>12</td>\n",
       "      <td>110.0</td>\n",
       "      <td>2926673</td>\n",
       "      <td>4944</td>\n",
       "      <td>628</td>\n",
       "      <td>8.166667</td>\n",
       "      <td>Apr</td>\n",
       "    </tr>\n",
       "    <tr>\n",
       "      <th>89</th>\n",
       "      <td>90</td>\n",
       "      <td>19-Dec-14</td>\n",
       "      <td>PK</td>\n",
       "      <td>HS</td>\n",
       "      <td>Drama</td>\n",
       "      <td>85</td>\n",
       "      <td>735.0</td>\n",
       "      <td>13270623</td>\n",
       "      <td>43767</td>\n",
       "      <td>5693</td>\n",
       "      <td>7.647059</td>\n",
       "      <td>Dec</td>\n",
       "    </tr>\n",
       "    <tr>\n",
       "      <th>132</th>\n",
       "      <td>133</td>\n",
       "      <td>13-Sep-13</td>\n",
       "      <td>Grand Masti</td>\n",
       "      <td>LW</td>\n",
       "      <td>Comedy</td>\n",
       "      <td>35</td>\n",
       "      <td>298.0</td>\n",
       "      <td>1795640</td>\n",
       "      <td>3015</td>\n",
       "      <td>721</td>\n",
       "      <td>7.514286</td>\n",
       "      <td>Sep</td>\n",
       "    </tr>\n",
       "    <tr>\n",
       "      <th>135</th>\n",
       "      <td>136</td>\n",
       "      <td>20-Sep-13</td>\n",
       "      <td>The Lunchbox</td>\n",
       "      <td>N</td>\n",
       "      <td>Drama</td>\n",
       "      <td>10</td>\n",
       "      <td>85.0</td>\n",
       "      <td>1064854</td>\n",
       "      <td>4054</td>\n",
       "      <td>285</td>\n",
       "      <td>7.500000</td>\n",
       "      <td>Sep</td>\n",
       "    </tr>\n",
       "    <tr>\n",
       "      <th>87</th>\n",
       "      <td>88</td>\n",
       "      <td>14-Jun-13</td>\n",
       "      <td>Fukrey</td>\n",
       "      <td>N</td>\n",
       "      <td>Comedy</td>\n",
       "      <td>5</td>\n",
       "      <td>36.2</td>\n",
       "      <td>227912</td>\n",
       "      <td>222</td>\n",
       "      <td>39</td>\n",
       "      <td>6.240000</td>\n",
       "      <td>Jun</td>\n",
       "    </tr>\n",
       "    <tr>\n",
       "      <th>58</th>\n",
       "      <td>59</td>\n",
       "      <td>5-Sep-14</td>\n",
       "      <td>Mary Kom</td>\n",
       "      <td>N</td>\n",
       "      <td>Drama</td>\n",
       "      <td>15</td>\n",
       "      <td>104.0</td>\n",
       "      <td>6086811</td>\n",
       "      <td>26560</td>\n",
       "      <td>1647</td>\n",
       "      <td>5.933333</td>\n",
       "      <td>Sep</td>\n",
       "    </tr>\n",
       "    <tr>\n",
       "      <th>128</th>\n",
       "      <td>129</td>\n",
       "      <td>18-Oct-13</td>\n",
       "      <td>Shahid</td>\n",
       "      <td>FS</td>\n",
       "      <td>Drama</td>\n",
       "      <td>6</td>\n",
       "      <td>40.0</td>\n",
       "      <td>1148516</td>\n",
       "      <td>3155</td>\n",
       "      <td>396</td>\n",
       "      <td>5.666667</td>\n",
       "      <td>Oct</td>\n",
       "    </tr>\n",
       "    <tr>\n",
       "      <th>37</th>\n",
       "      <td>38</td>\n",
       "      <td>11-Jul-14</td>\n",
       "      <td>Humpty Sharma Ki Dulhania</td>\n",
       "      <td>N</td>\n",
       "      <td>Romance</td>\n",
       "      <td>20</td>\n",
       "      <td>130.0</td>\n",
       "      <td>6604595</td>\n",
       "      <td>14535</td>\n",
       "      <td>2208</td>\n",
       "      <td>5.500000</td>\n",
       "      <td>Jul</td>\n",
       "    </tr>\n",
       "    <tr>\n",
       "      <th>101</th>\n",
       "      <td>102</td>\n",
       "      <td>12-Jul-13</td>\n",
       "      <td>Bhaag Milkha Bhaag</td>\n",
       "      <td>N</td>\n",
       "      <td>Drama</td>\n",
       "      <td>30</td>\n",
       "      <td>164.0</td>\n",
       "      <td>2635390</td>\n",
       "      <td>4622</td>\n",
       "      <td>456</td>\n",
       "      <td>4.466667</td>\n",
       "      <td>Jul</td>\n",
       "    </tr>\n",
       "    <tr>\n",
       "      <th>115</th>\n",
       "      <td>116</td>\n",
       "      <td>9-Aug-13</td>\n",
       "      <td>Chennai Express</td>\n",
       "      <td>FS</td>\n",
       "      <td>Comedy</td>\n",
       "      <td>75</td>\n",
       "      <td>395.0</td>\n",
       "      <td>1882346</td>\n",
       "      <td>7954</td>\n",
       "      <td>1593</td>\n",
       "      <td>4.266667</td>\n",
       "      <td>Aug</td>\n",
       "    </tr>\n",
       "  </tbody>\n",
       "</table>\n",
       "</div>"
      ],
      "text/plain": [
       "     SlNo ReleaseDate                  MovieName ReleaseTime    Genre  Budget  \\\n",
       "64     65   26-Apr-13                 Aashiqui 2           N  Romance      12   \n",
       "89     90   19-Dec-14                         PK          HS   Drama       85   \n",
       "132   133   13-Sep-13                Grand Masti          LW   Comedy      35   \n",
       "135   136   20-Sep-13               The Lunchbox           N   Drama       10   \n",
       "87     88   14-Jun-13                     Fukrey           N   Comedy       5   \n",
       "58     59    5-Sep-14                   Mary Kom           N   Drama       15   \n",
       "128   129   18-Oct-13                     Shahid          FS   Drama        6   \n",
       "37     38   11-Jul-14  Humpty Sharma Ki Dulhania           N  Romance      20   \n",
       "101   102   12-Jul-13         Bhaag Milkha Bhaag           N   Drama       30   \n",
       "115   116    9-Aug-13            Chennai Express          FS   Comedy      75   \n",
       "\n",
       "     BoxOfficeCollection  YoutubeViews  YoutubeLikes  YoutubeDislikes  \\\n",
       "64                 110.0       2926673          4944              628   \n",
       "89                 735.0      13270623         43767             5693   \n",
       "132                298.0       1795640          3015              721   \n",
       "135                 85.0       1064854          4054              285   \n",
       "87                  36.2        227912           222               39   \n",
       "58                 104.0       6086811         26560             1647   \n",
       "128                 40.0       1148516          3155              396   \n",
       "37                 130.0       6604595         14535             2208   \n",
       "101                164.0       2635390          4622              456   \n",
       "115                395.0       1882346          7954             1593   \n",
       "\n",
       "          ROI Month  \n",
       "64   8.166667   Apr  \n",
       "89   7.647059   Dec  \n",
       "132  7.514286   Sep  \n",
       "135  7.500000   Sep  \n",
       "87   6.240000   Jun  \n",
       "58   5.933333   Sep  \n",
       "128  5.666667   Oct  \n",
       "37   5.500000   Jul  \n",
       "101  4.466667   Jul  \n",
       "115  4.266667   Aug  "
      ]
     },
     "execution_count": 16,
     "metadata": {},
     "output_type": "execute_result"
    }
   ],
   "source": [
    "roi = []\n",
    "for i, row in bollywood_df.iterrows():\n",
    "    roi.append((row['BoxOfficeCollection'] - row['Budget'])/row['Budget'])\n",
    "bollywood_df['ROI'] = roi\n",
    "bollywood_df.sort_values(by='ROI', ascending=False).head(10)"
   ]
  },
  {
   "cell_type": "markdown",
   "metadata": {},
   "source": [
    "### Q7. Do the movies have higher ROI if they get released on festive seasons or long weekend? Calculate the average ROI for different release times."
   ]
  },
  {
   "cell_type": "code",
   "execution_count": 17,
   "metadata": {},
   "outputs": [
    {
     "data": {
      "text/plain": [
       "ReleaseTime\n",
       "FS    0.973853\n",
       "HS    0.850867\n",
       "LW    1.127205\n",
       "N     0.657722\n",
       "Name: ROI, dtype: float64"
      ]
     },
     "execution_count": 17,
     "metadata": {},
     "output_type": "execute_result"
    }
   ],
   "source": [
    "roi = []\n",
    "for i, row in bollywood_df.iterrows():\n",
    "    roi.append((row['BoxOfficeCollection'] - row['Budget'])/row['Budget'])\n",
    "bollywood_df['ROI'] = roi\n",
    "bollywood_df.sort_values(by='ROI', ascending=False).head(10)\n",
    "bollywood_df.groupby('ReleaseTime')['ROI'].mean()"
   ]
  },
  {
   "cell_type": "markdown",
   "metadata": {},
   "source": [
    "### Q8. Draw a histogram and a distribution plot to find out the distribution of movie budgets. Interpret the plot to conclude if the most movies are high or low budgeted movies."
   ]
  },
  {
   "cell_type": "code",
   "execution_count": 18,
   "metadata": {},
   "outputs": [
    {
     "data": {
      "text/plain": [
       "(array([64., 40., 19., 11.,  4.,  4.,  2.,  2.,  1.,  2.]),\n",
       " array([  2. ,  16.8,  31.6,  46.4,  61.2,  76. ,  90.8, 105.6, 120.4,\n",
       "        135.2, 150. ]),\n",
       " <BarContainer object of 10 artists>)"
      ]
     },
     "execution_count": 18,
     "metadata": {},
     "output_type": "execute_result"
    },
    {
     "data": {
      "image/png": "[encoded data removed]",
      "text/plain": [
       "<Figure size 640x480 with 1 Axes>"
      ]
     },
     "metadata": {},
     "output_type": "display_data"
    }
   ],
   "source": [
    "import matplotlib.pyplot as plt\n",
    "plt.hist(bollywood_df['Budget'])"
   ]
  },
  {
   "cell_type": "code",
   "execution_count": 19,
   "metadata": {},
   "outputs": [
    {
     "data": {
      "text/plain": [
       "<Axes: xlabel='Budget', ylabel='Density'>"
      ]
     },
     "execution_count": 19,
     "metadata": {},
     "output_type": "execute_result"
    },
    {
     "data": {
      "image/png": "[encoded data removed]",
      "text/plain": [
       "<Figure size 640x480 with 1 Axes>"
      ]
     },
     "metadata": {},
     "output_type": "display_data"
    }
   ],
   "source": [
    "import seaborn as sn\n",
    "sn.distplot(bollywood_df['Budget'])"
   ]
  },
  {
   "cell_type": "markdown",
   "metadata": {},
   "source": [
    "### Q9. Compare the distribution of ROIs between movies with comedy genre and drama. Which genre typically sees higher ROIs?"
   ]
  },
  {
   "cell_type": "code",
   "execution_count": 20,
   "metadata": {},
   "outputs": [
    {
     "data": {
      "text/html": [
       "<div>\n",
       "<style scoped>\n",
       "    .dataframe tbody tr th:only-of-type {\n",
       "        vertical-align: middle;\n",
       "    }\n",
       "\n",
       "    .dataframe tbody tr th {\n",
       "        vertical-align: top;\n",
       "    }\n",
       "\n",
       "    .dataframe thead th {\n",
       "        text-align: right;\n",
       "    }\n",
       "</style>\n",
       "<table border=\"1\" class=\"dataframe\">\n",
       "  <thead>\n",
       "    <tr style=\"text-align: right;\">\n",
       "      <th></th>\n",
       "      <th>SlNo</th>\n",
       "      <th>ReleaseDate</th>\n",
       "      <th>MovieName</th>\n",
       "      <th>ReleaseTime</th>\n",
       "      <th>Genre</th>\n",
       "      <th>Budget</th>\n",
       "      <th>BoxOfficeCollection</th>\n",
       "      <th>YoutubeViews</th>\n",
       "      <th>YoutubeLikes</th>\n",
       "      <th>YoutubeDislikes</th>\n",
       "      <th>ROI</th>\n",
       "      <th>Month</th>\n",
       "    </tr>\n",
       "  </thead>\n",
       "  <tbody>\n",
       "    <tr>\n",
       "      <th>0</th>\n",
       "      <td>1</td>\n",
       "      <td>18-Apr-14</td>\n",
       "      <td>2 States</td>\n",
       "      <td>LW</td>\n",
       "      <td>Romance</td>\n",
       "      <td>36</td>\n",
       "      <td>104.00</td>\n",
       "      <td>8576361</td>\n",
       "      <td>26622</td>\n",
       "      <td>2527</td>\n",
       "      <td>1.888889</td>\n",
       "      <td>Apr</td>\n",
       "    </tr>\n",
       "    <tr>\n",
       "      <th>1</th>\n",
       "      <td>2</td>\n",
       "      <td>4-Jan-13</td>\n",
       "      <td>Table No. 21</td>\n",
       "      <td>N</td>\n",
       "      <td>Thriller</td>\n",
       "      <td>10</td>\n",
       "      <td>12.00</td>\n",
       "      <td>1087320</td>\n",
       "      <td>1129</td>\n",
       "      <td>137</td>\n",
       "      <td>0.200000</td>\n",
       "      <td>Jan</td>\n",
       "    </tr>\n",
       "    <tr>\n",
       "      <th>2</th>\n",
       "      <td>3</td>\n",
       "      <td>18-Jul-14</td>\n",
       "      <td>Amit Sahni Ki List</td>\n",
       "      <td>N</td>\n",
       "      <td>Comedy</td>\n",
       "      <td>10</td>\n",
       "      <td>4.00</td>\n",
       "      <td>572336</td>\n",
       "      <td>586</td>\n",
       "      <td>54</td>\n",
       "      <td>-0.600000</td>\n",
       "      <td>Jul</td>\n",
       "    </tr>\n",
       "    <tr>\n",
       "      <th>3</th>\n",
       "      <td>4</td>\n",
       "      <td>4-Jan-13</td>\n",
       "      <td>Rajdhani Express</td>\n",
       "      <td>N</td>\n",
       "      <td>Drama</td>\n",
       "      <td>7</td>\n",
       "      <td>0.35</td>\n",
       "      <td>42626</td>\n",
       "      <td>86</td>\n",
       "      <td>19</td>\n",
       "      <td>-0.950000</td>\n",
       "      <td>Jan</td>\n",
       "    </tr>\n",
       "    <tr>\n",
       "      <th>4</th>\n",
       "      <td>5</td>\n",
       "      <td>4-Jul-14</td>\n",
       "      <td>Bobby Jasoos</td>\n",
       "      <td>N</td>\n",
       "      <td>Comedy</td>\n",
       "      <td>18</td>\n",
       "      <td>10.80</td>\n",
       "      <td>3113427</td>\n",
       "      <td>4512</td>\n",
       "      <td>1224</td>\n",
       "      <td>-0.400000</td>\n",
       "      <td>Jul</td>\n",
       "    </tr>\n",
       "  </tbody>\n",
       "</table>\n",
       "</div>"
      ],
      "text/plain": [
       "   SlNo ReleaseDate           MovieName ReleaseTime      Genre  Budget  \\\n",
       "0     1   18-Apr-14            2 States          LW    Romance      36   \n",
       "1     2    4-Jan-13        Table No. 21           N  Thriller       10   \n",
       "2     3   18-Jul-14  Amit Sahni Ki List           N     Comedy      10   \n",
       "3     4    4-Jan-13    Rajdhani Express           N     Drama        7   \n",
       "4     5    4-Jul-14        Bobby Jasoos           N     Comedy      18   \n",
       "\n",
       "   BoxOfficeCollection  YoutubeViews  YoutubeLikes  YoutubeDislikes       ROI  \\\n",
       "0               104.00       8576361         26622             2527  1.888889   \n",
       "1                12.00       1087320          1129              137  0.200000   \n",
       "2                 4.00        572336           586               54 -0.600000   \n",
       "3                 0.35         42626            86               19 -0.950000   \n",
       "4                10.80       3113427          4512             1224 -0.400000   \n",
       "\n",
       "  Month  \n",
       "0   Apr  \n",
       "1   Jan  \n",
       "2   Jul  \n",
       "3   Jan  \n",
       "4   Jul  "
      ]
     },
     "execution_count": 20,
     "metadata": {},
     "output_type": "execute_result"
    }
   ],
   "source": [
    "roi = []\n",
    "for i, row in bollywood_df.iterrows():\n",
    "    roi.append((row['BoxOfficeCollection'] - row['Budget'])/row['Budget'])\n",
    "bollywood_df['ROI'] = roi\n",
    "bollywood_df.head(5)"
   ]
  },
  {
   "cell_type": "code",
   "execution_count": 21,
   "metadata": {},
   "outputs": [
    {
     "data": {
      "text/plain": [
       "<matplotlib.legend.Legend at 0x7f5f0d579250>"
      ]
     },
     "execution_count": 21,
     "metadata": {},
     "output_type": "execute_result"
    },
    {
     "data": {
      "image/png": "[encoded data removed]",
      "text/plain": [
       "<Figure size 640x480 with 1 Axes>"
      ]
     },
     "metadata": {},
     "output_type": "display_data"
    }
   ],
   "source": [
    "import matplotlib.pyplot as plt\n",
    "import seaborn as sn\n",
    "\n",
    "sn.distplot(\n",
    "    bollywood_df[bollywood_df['Genre'] == 'Comedy']\n",
    "    ['ROI'],\n",
    "    color='y',\n",
    "    label='Comedy movies'\n",
    ")\n",
    "\n",
    "sn.distplot(\n",
    "    bollywood_df[bollywood_df['Genre'] == ' Drama ']\n",
    "    ['ROI'],\n",
    "    color = 'r',\n",
    "    label = 'Drama movies'\n",
    ")\n",
    "\n",
    "plt.legend()"
   ]
  },
  {
   "cell_type": "markdown",
   "metadata": {},
   "source": [
    "### Q10. Is there a correlation between box office collection and YouTube likes? Is the correlation positive or negative?"
   ]
  },
  {
   "cell_type": "code",
   "execution_count": 22,
   "metadata": {},
   "outputs": [
    {
     "data": {
      "text/plain": [
       "0.6825165877731297"
      ]
     },
     "execution_count": 22,
     "metadata": {},
     "output_type": "execute_result"
    }
   ],
   "source": [
    "bollywood_df['YoutubeLikes'].corr(bollywood_df['BoxOfficeCollection'])"
   ]
  },
  {
   "cell_type": "markdown",
   "metadata": {},
   "source": [
    "### Q11. Which genre of movies typically sees more YouTube likes? Draw boxplots for each genre of movies to compare."
   ]
  },
  {
   "cell_type": "code",
   "execution_count": 24,
   "metadata": {},
   "outputs": [
    {
     "data": {
      "text/plain": [
       "<Axes: title={'center': 'YoutubeLikes'}, xlabel='Genre'>"
      ]
     },
     "execution_count": 24,
     "metadata": {},
     "output_type": "execute_result"
    },
    {
     "data": {
      "image/png": "[encoded data removed]",
      "text/plain": [
       "<Figure size 640x480 with 1 Axes>"
      ]
     },
     "metadata": {},
     "output_type": "display_data"
    }
   ],
   "source": [
    "bollywood_df.boxplot(by='Genre', column=['YoutubeLikes'])"
   ]
  },
  {
   "cell_type": "markdown",
   "metadata": {},
   "source": [
    "### Q12. Which of the variables among `Budget`, `BoxOfficeCollection`, `YoutubeView`, `YoutubeLikes`, `YoutubeDislikes` are highly correlated?\n",
    "Note: Draw pair plot or heatmap."
   ]
  },
  {
   "cell_type": "code",
   "execution_count": 25,
   "metadata": {},
   "outputs": [
    {
     "data": {
      "text/plain": [
       "<Axes: >"
      ]
     },
     "execution_count": 25,
     "metadata": {},
     "output_type": "execute_result"
    },
    {
     "data": {
      "image/png": "[encoded data removed]",
      "text/plain": [
       "<Figure size 640x480 with 2 Axes>"
      ]
     },
     "metadata": {},
     "output_type": "display_data"
    }
   ],
   "source": [
    "features = ['Budget', 'BoxOfficeCollection', 'YoutubeViews', 'YoutubeLikes', 'YoutubeDislikes']\n",
    "sn.heatmap(bollywood_df[features].corr(), annot=True)"
   ]
  }
 ],
 "metadata": {
  "kernelspec": {
   "display_name": "Python 3 (ipykernel)",
   "language": "python",
   "name": "python3"
  },
  "language_info": {
   "codemirror_mode": {
    "name": "ipython",
    "version": 3
   },
   "file_extension": ".py",
   "mimetype": "text/x-python",
   "name": "python",
   "nbconvert_exporter": "python",
   "pygments_lexer": "ipython3",
   "version": "3.11.6"
  }
 },
 "nbformat": 4,
 "nbformat_minor": 4
}
